{
 "cells": [
  {
   "cell_type": "code",
   "execution_count": 22,
   "id": "6a943528-ba3b-4c5b-9a12-0c55024c090d",
   "metadata": {},
   "outputs": [],
   "source": [
    "import numpy as np\n",
    "import pandas as pd\n",
    "import matplotlib.pyplot as plt\n",
    "import seaborn as sns\n",
    "from sklearn.model_selection import train_test_split, GridSearchCV, StratifiedKFold, RandomizedSearchCV\n",
    "from sklearn.pipeline import Pipeline\n",
    "from sklearn.impute import SimpleImputer\n",
    "from sklearn.preprocessing import RobustScaler, PowerTransformer, PolynomialFeatures, OneHotEncoder\n",
    "from sklearn.compose import ColumnTransformer\n",
    "from sklearn.svm import SVC\n",
    "from sklearn.neighbors import KNeighborsClassifier\n",
    "from sklearn.tree import DecisionTreeClassifier\n",
    "from sklearn.ensemble import RandomForestClassifier\n",
    "from sklearn.linear_model import LogisticRegression\n",
    "from xgboost import XGBClassifier, XGBRegressor\n",
    "from sklearn.metrics import accuracy_score, classification_report, confusion_matrix\n",
    "import warnings\n",
    "import sidetable as stb\n",
    "warnings.filterwarnings('ignore')"
   ]
  },
  {
   "cell_type": "markdown",
   "id": "2166b229-9fa1-49a5-9db1-a7e7efbb7e42",
   "metadata": {},
   "source": [
    "### Import Data"
   ]
  },
  {
   "cell_type": "code",
   "execution_count": 4,
   "id": "41c82c54-1480-46fe-9a07-5919998dbf63",
   "metadata": {},
   "outputs": [
    {
     "data": {
      "text/html": [
       "<div>\n",
       "<style scoped>\n",
       "    .dataframe tbody tr th:only-of-type {\n",
       "        vertical-align: middle;\n",
       "    }\n",
       "\n",
       "    .dataframe tbody tr th {\n",
       "        vertical-align: top;\n",
       "    }\n",
       "\n",
       "    .dataframe thead th {\n",
       "        text-align: right;\n",
       "    }\n",
       "</style>\n",
       "<table border=\"1\" class=\"dataframe\">\n",
       "  <thead>\n",
       "    <tr style=\"text-align: right;\">\n",
       "      <th></th>\n",
       "      <th>RowNumber</th>\n",
       "      <th>CustomerId</th>\n",
       "      <th>Surname</th>\n",
       "      <th>CreditScore</th>\n",
       "      <th>Geography</th>\n",
       "      <th>Gender</th>\n",
       "      <th>Age</th>\n",
       "      <th>Tenure</th>\n",
       "      <th>Balance</th>\n",
       "      <th>NumOfProducts</th>\n",
       "      <th>HasCrCard</th>\n",
       "      <th>IsActiveMember</th>\n",
       "      <th>EstimatedSalary</th>\n",
       "      <th>Exited</th>\n",
       "    </tr>\n",
       "  </thead>\n",
       "  <tbody>\n",
       "    <tr>\n",
       "      <th>0</th>\n",
       "      <td>1</td>\n",
       "      <td>15634602</td>\n",
       "      <td>Hargrave</td>\n",
       "      <td>619</td>\n",
       "      <td>France</td>\n",
       "      <td>Female</td>\n",
       "      <td>42</td>\n",
       "      <td>2</td>\n",
       "      <td>0.00</td>\n",
       "      <td>1</td>\n",
       "      <td>1</td>\n",
       "      <td>1</td>\n",
       "      <td>101348.88</td>\n",
       "      <td>1</td>\n",
       "    </tr>\n",
       "    <tr>\n",
       "      <th>1</th>\n",
       "      <td>2</td>\n",
       "      <td>15647311</td>\n",
       "      <td>Hill</td>\n",
       "      <td>608</td>\n",
       "      <td>Spain</td>\n",
       "      <td>Female</td>\n",
       "      <td>41</td>\n",
       "      <td>1</td>\n",
       "      <td>83807.86</td>\n",
       "      <td>1</td>\n",
       "      <td>0</td>\n",
       "      <td>1</td>\n",
       "      <td>112542.58</td>\n",
       "      <td>0</td>\n",
       "    </tr>\n",
       "    <tr>\n",
       "      <th>2</th>\n",
       "      <td>3</td>\n",
       "      <td>15619304</td>\n",
       "      <td>Onio</td>\n",
       "      <td>502</td>\n",
       "      <td>France</td>\n",
       "      <td>Female</td>\n",
       "      <td>42</td>\n",
       "      <td>8</td>\n",
       "      <td>159660.80</td>\n",
       "      <td>3</td>\n",
       "      <td>1</td>\n",
       "      <td>0</td>\n",
       "      <td>113931.57</td>\n",
       "      <td>1</td>\n",
       "    </tr>\n",
       "    <tr>\n",
       "      <th>3</th>\n",
       "      <td>4</td>\n",
       "      <td>15701354</td>\n",
       "      <td>Boni</td>\n",
       "      <td>699</td>\n",
       "      <td>France</td>\n",
       "      <td>Female</td>\n",
       "      <td>39</td>\n",
       "      <td>1</td>\n",
       "      <td>0.00</td>\n",
       "      <td>2</td>\n",
       "      <td>0</td>\n",
       "      <td>0</td>\n",
       "      <td>93826.63</td>\n",
       "      <td>0</td>\n",
       "    </tr>\n",
       "    <tr>\n",
       "      <th>4</th>\n",
       "      <td>5</td>\n",
       "      <td>15737888</td>\n",
       "      <td>Mitchell</td>\n",
       "      <td>850</td>\n",
       "      <td>Spain</td>\n",
       "      <td>Female</td>\n",
       "      <td>43</td>\n",
       "      <td>2</td>\n",
       "      <td>125510.82</td>\n",
       "      <td>1</td>\n",
       "      <td>1</td>\n",
       "      <td>1</td>\n",
       "      <td>79084.10</td>\n",
       "      <td>0</td>\n",
       "    </tr>\n",
       "  </tbody>\n",
       "</table>\n",
       "</div>"
      ],
      "text/plain": [
       "   RowNumber  CustomerId   Surname  CreditScore Geography  Gender  Age  \\\n",
       "0          1    15634602  Hargrave          619    France  Female   42   \n",
       "1          2    15647311      Hill          608     Spain  Female   41   \n",
       "2          3    15619304      Onio          502    France  Female   42   \n",
       "3          4    15701354      Boni          699    France  Female   39   \n",
       "4          5    15737888  Mitchell          850     Spain  Female   43   \n",
       "\n",
       "   Tenure   Balance  NumOfProducts  HasCrCard  IsActiveMember  \\\n",
       "0       2      0.00              1          1               1   \n",
       "1       1  83807.86              1          0               1   \n",
       "2       8 159660.80              3          1               0   \n",
       "3       1      0.00              2          0               0   \n",
       "4       2 125510.82              1          1               1   \n",
       "\n",
       "   EstimatedSalary  Exited  \n",
       "0        101348.88       1  \n",
       "1        112542.58       0  \n",
       "2        113931.57       1  \n",
       "3         93826.63       0  \n",
       "4         79084.10       0  "
      ]
     },
     "execution_count": 4,
     "metadata": {},
     "output_type": "execute_result"
    }
   ],
   "source": [
    "df = pd.read_csv('bank.csv')\n",
    "pd.options.display.max_columns = 999\n",
    "pd.set_option('display.float_format', lambda x: '%.2f' % x) #Change Decimal\n",
    "df.head()"
   ]
  },
  {
   "cell_type": "markdown",
   "id": "954690ce-785d-4d79-ad40-d3f642322671",
   "metadata": {},
   "source": [
    "# Problems\n",
    "- Customer Churn"
   ]
  },
  {
   "cell_type": "markdown",
   "id": "8a3d42c8-4901-4e1a-9927-491d1439b1b3",
   "metadata": {},
   "source": [
    "# Goals\n",
    "- What is Credit Score\n",
    "- What is the correlation of Tenure duration to Salary and Age\n",
    "- Number of customer who Churn\n",
    "- From which Country and Gender who did the most Churn\n",
    "- Find out the usage of having many products\n",
    "- Advantage of having Credit Cards\n",
    "- Find out which customer are likely to Churn"
   ]
  },
  {
   "cell_type": "markdown",
   "id": "a01bec60-e950-4416-b69d-409778fd728c",
   "metadata": {},
   "source": [
    "# Pengecheckan Dataframe"
   ]
  },
  {
   "cell_type": "code",
   "execution_count": 6,
   "id": "c2490754-fbdf-4342-9cdb-f0adbe33310e",
   "metadata": {},
   "outputs": [
    {
     "name": "stdout",
     "output_type": "stream",
     "text": [
      "<class 'pandas.core.frame.DataFrame'>\n",
      "RangeIndex: 10000 entries, 0 to 9999\n",
      "Data columns (total 14 columns):\n",
      " #   Column           Non-Null Count  Dtype  \n",
      "---  ------           --------------  -----  \n",
      " 0   RowNumber        10000 non-null  int64  \n",
      " 1   CustomerId       10000 non-null  int64  \n",
      " 2   Surname          10000 non-null  object \n",
      " 3   CreditScore      10000 non-null  int64  \n",
      " 4   Geography        10000 non-null  object \n",
      " 5   Gender           10000 non-null  object \n",
      " 6   Age              10000 non-null  int64  \n",
      " 7   Tenure           10000 non-null  int64  \n",
      " 8   Balance          10000 non-null  float64\n",
      " 9   NumOfProducts    10000 non-null  int64  \n",
      " 10  HasCrCard        10000 non-null  int64  \n",
      " 11  IsActiveMember   10000 non-null  int64  \n",
      " 12  EstimatedSalary  10000 non-null  float64\n",
      " 13  Exited           10000 non-null  int64  \n",
      "dtypes: float64(2), int64(9), object(3)\n",
      "memory usage: 1.1+ MB\n"
     ]
    }
   ],
   "source": [
    "df.info()"
   ]
  },
  {
   "cell_type": "code",
   "execution_count": 7,
   "id": "39da1a53-0e54-41d7-9128-33b3cf37eee1",
   "metadata": {},
   "outputs": [
    {
     "data": {
      "text/html": [
       "<div>\n",
       "<style scoped>\n",
       "    .dataframe tbody tr th:only-of-type {\n",
       "        vertical-align: middle;\n",
       "    }\n",
       "\n",
       "    .dataframe tbody tr th {\n",
       "        vertical-align: top;\n",
       "    }\n",
       "\n",
       "    .dataframe thead th {\n",
       "        text-align: right;\n",
       "    }\n",
       "</style>\n",
       "<table border=\"1\" class=\"dataframe\">\n",
       "  <thead>\n",
       "    <tr style=\"text-align: right;\">\n",
       "      <th></th>\n",
       "      <th>Column</th>\n",
       "      <th>DataType</th>\n",
       "      <th>Null</th>\n",
       "      <th>Null (%)</th>\n",
       "      <th>nUnique</th>\n",
       "      <th>Unique Samples</th>\n",
       "    </tr>\n",
       "  </thead>\n",
       "  <tbody>\n",
       "    <tr>\n",
       "      <th>0</th>\n",
       "      <td>RowNumber</td>\n",
       "      <td>int64</td>\n",
       "      <td>0</td>\n",
       "      <td>0.00</td>\n",
       "      <td>10000</td>\n",
       "      <td>[5304, 5529]</td>\n",
       "    </tr>\n",
       "    <tr>\n",
       "      <th>1</th>\n",
       "      <td>CustomerId</td>\n",
       "      <td>int64</td>\n",
       "      <td>0</td>\n",
       "      <td>0.00</td>\n",
       "      <td>10000</td>\n",
       "      <td>[15780770, 15814519]</td>\n",
       "    </tr>\n",
       "    <tr>\n",
       "      <th>2</th>\n",
       "      <td>Surname</td>\n",
       "      <td>object</td>\n",
       "      <td>0</td>\n",
       "      <td>0.00</td>\n",
       "      <td>2932</td>\n",
       "      <td>[Ibeamaka, Peng]</td>\n",
       "    </tr>\n",
       "    <tr>\n",
       "      <th>3</th>\n",
       "      <td>CreditScore</td>\n",
       "      <td>int64</td>\n",
       "      <td>0</td>\n",
       "      <td>0.00</td>\n",
       "      <td>460</td>\n",
       "      <td>[695, 536]</td>\n",
       "    </tr>\n",
       "    <tr>\n",
       "      <th>4</th>\n",
       "      <td>Geography</td>\n",
       "      <td>object</td>\n",
       "      <td>0</td>\n",
       "      <td>0.00</td>\n",
       "      <td>3</td>\n",
       "      <td>[France, Germany]</td>\n",
       "    </tr>\n",
       "    <tr>\n",
       "      <th>5</th>\n",
       "      <td>Gender</td>\n",
       "      <td>object</td>\n",
       "      <td>0</td>\n",
       "      <td>0.00</td>\n",
       "      <td>2</td>\n",
       "      <td>[Male, Female]</td>\n",
       "    </tr>\n",
       "    <tr>\n",
       "      <th>6</th>\n",
       "      <td>Age</td>\n",
       "      <td>int64</td>\n",
       "      <td>0</td>\n",
       "      <td>0.00</td>\n",
       "      <td>70</td>\n",
       "      <td>[46, 52]</td>\n",
       "    </tr>\n",
       "    <tr>\n",
       "      <th>7</th>\n",
       "      <td>Tenure</td>\n",
       "      <td>int64</td>\n",
       "      <td>0</td>\n",
       "      <td>0.00</td>\n",
       "      <td>11</td>\n",
       "      <td>[4, 0]</td>\n",
       "    </tr>\n",
       "    <tr>\n",
       "      <th>8</th>\n",
       "      <td>Balance</td>\n",
       "      <td>float64</td>\n",
       "      <td>0</td>\n",
       "      <td>0.00</td>\n",
       "      <td>6382</td>\n",
       "      <td>[124993.29, 123067.63]</td>\n",
       "    </tr>\n",
       "    <tr>\n",
       "      <th>9</th>\n",
       "      <td>NumOfProducts</td>\n",
       "      <td>int64</td>\n",
       "      <td>0</td>\n",
       "      <td>0.00</td>\n",
       "      <td>4</td>\n",
       "      <td>[1, 2]</td>\n",
       "    </tr>\n",
       "    <tr>\n",
       "      <th>10</th>\n",
       "      <td>HasCrCard</td>\n",
       "      <td>int64</td>\n",
       "      <td>0</td>\n",
       "      <td>0.00</td>\n",
       "      <td>2</td>\n",
       "      <td>[0, 1]</td>\n",
       "    </tr>\n",
       "    <tr>\n",
       "      <th>11</th>\n",
       "      <td>IsActiveMember</td>\n",
       "      <td>int64</td>\n",
       "      <td>0</td>\n",
       "      <td>0.00</td>\n",
       "      <td>2</td>\n",
       "      <td>[0, 1]</td>\n",
       "    </tr>\n",
       "    <tr>\n",
       "      <th>12</th>\n",
       "      <td>EstimatedSalary</td>\n",
       "      <td>float64</td>\n",
       "      <td>0</td>\n",
       "      <td>0.00</td>\n",
       "      <td>9999</td>\n",
       "      <td>[101371.72, 58381.77]</td>\n",
       "    </tr>\n",
       "    <tr>\n",
       "      <th>13</th>\n",
       "      <td>Exited</td>\n",
       "      <td>int64</td>\n",
       "      <td>0</td>\n",
       "      <td>0.00</td>\n",
       "      <td>2</td>\n",
       "      <td>[0, 1]</td>\n",
       "    </tr>\n",
       "  </tbody>\n",
       "</table>\n",
       "</div>"
      ],
      "text/plain": [
       "             Column DataType  Null  Null (%)  nUnique          Unique Samples\n",
       "0         RowNumber    int64     0      0.00    10000            [5304, 5529]\n",
       "1        CustomerId    int64     0      0.00    10000    [15780770, 15814519]\n",
       "2           Surname   object     0      0.00     2932        [Ibeamaka, Peng]\n",
       "3       CreditScore    int64     0      0.00      460              [695, 536]\n",
       "4         Geography   object     0      0.00        3       [France, Germany]\n",
       "5            Gender   object     0      0.00        2          [Male, Female]\n",
       "6               Age    int64     0      0.00       70                [46, 52]\n",
       "7            Tenure    int64     0      0.00       11                  [4, 0]\n",
       "8           Balance  float64     0      0.00     6382  [124993.29, 123067.63]\n",
       "9     NumOfProducts    int64     0      0.00        4                  [1, 2]\n",
       "10        HasCrCard    int64     0      0.00        2                  [0, 1]\n",
       "11   IsActiveMember    int64     0      0.00        2                  [0, 1]\n",
       "12  EstimatedSalary  float64     0      0.00     9999   [101371.72, 58381.77]\n",
       "13           Exited    int64     0      0.00        2                  [0, 1]"
      ]
     },
     "execution_count": 7,
     "metadata": {},
     "output_type": "execute_result"
    }
   ],
   "source": [
    "Desc = []\n",
    "\n",
    "for i in df.columns:\n",
    "    Desc.append([\n",
    "        i,\n",
    "        df[i].dtypes,\n",
    "        df[i].isna().sum(),\n",
    "        round((((df[i].isna().sum() )/ len(df)) * 100),2),\n",
    "        df[i].nunique(),\n",
    "        df[i].drop_duplicates().sample(2).values\n",
    "    ])\n",
    "\n",
    "pd.DataFrame(data = Desc,\n",
    "            columns = [\n",
    "                'Column',\n",
    "                'DataType',\n",
    "                'Null',\n",
    "                'Null (%)',\n",
    "                'nUnique',\n",
    "                'Unique Samples'\n",
    "            ])"
   ]
  },
  {
   "cell_type": "code",
   "execution_count": 8,
   "id": "5ae097d7-ea25-46ac-9f1d-1a1612d53bb6",
   "metadata": {},
   "outputs": [
    {
     "data": {
      "image/png": "[encoded data removed]",
      "text/plain": [
       "<Figure size 2000x1000 with 2 Axes>"
      ]
     },
     "metadata": {
      "needs_background": "light"
     },
     "output_type": "display_data"
    }
   ],
   "source": [
    "mask = np.zeros_like(df.corr())\n",
    "mask[np.triu_indices_from(mask)]=True\n",
    "plt.figure(figsize=(20,10),dpi=100)\n",
    "sns.heatmap(df.corr('spearman'), annot=True, cmap = 'Pastel1', mask=mask)\n",
    "plt.show()"
   ]
  },
  {
   "cell_type": "markdown",
   "id": "f0b97a46-5b6c-41ca-a919-b74f8708f935",
   "metadata": {},
   "source": [
    "### Outliers"
   ]
  },
  {
   "cell_type": "code",
   "execution_count": 18,
   "id": "b80b5fa6-7eb7-4335-95df-e13737f34876",
   "metadata": {},
   "outputs": [
    {
     "data": {
      "image/png": "[encoded data removed]",
      "text/plain": [
       "<Figure size 1440x1440 with 7 Axes>"
      ]
     },
     "metadata": {
      "needs_background": "light"
     },
     "output_type": "display_data"
    }
   ],
   "source": [
    "# Outliers by Boxplot\n",
    "df_describe = df.drop(columns = ['RowNumber','Surname', 'Geography', 'Gender', 'NumOfProducts', 'HasCrCard', 'IsActiveMember'])\n",
    "\n",
    "plt.figure(figsize =(20, 20))\n",
    "x = 1 \n",
    "\n",
    "for column in df_describe.columns:\n",
    "    plt.subplot(4,5,x)\n",
    "    sns.boxplot(x=df_describe[column], palette='rainbow')\n",
    "    x+=1\n",
    "plt.tight_layout\n",
    "plt.show()"
   ]
  },
  {
   "cell_type": "code",
   "execution_count": 17,
   "id": "0f92d13d-67ca-4c2a-b95d-8c63aaabdcea",
   "metadata": {},
   "outputs": [
    {
     "data": {
      "text/html": [
       "<div>\n",
       "<style scoped>\n",
       "    .dataframe tbody tr th:only-of-type {\n",
       "        vertical-align: middle;\n",
       "    }\n",
       "\n",
       "    .dataframe tbody tr th {\n",
       "        vertical-align: top;\n",
       "    }\n",
       "\n",
       "    .dataframe thead th {\n",
       "        text-align: right;\n",
       "    }\n",
       "</style>\n",
       "<table border=\"1\" class=\"dataframe\">\n",
       "  <thead>\n",
       "    <tr style=\"text-align: right;\">\n",
       "      <th></th>\n",
       "      <th>Data Features</th>\n",
       "      <th>Jumlah Outliers</th>\n",
       "    </tr>\n",
       "  </thead>\n",
       "  <tbody>\n",
       "    <tr>\n",
       "      <th>0</th>\n",
       "      <td>CustomerId</td>\n",
       "      <td>0</td>\n",
       "    </tr>\n",
       "    <tr>\n",
       "      <th>1</th>\n",
       "      <td>CreditScore</td>\n",
       "      <td>15</td>\n",
       "    </tr>\n",
       "    <tr>\n",
       "      <th>2</th>\n",
       "      <td>Age</td>\n",
       "      <td>359</td>\n",
       "    </tr>\n",
       "    <tr>\n",
       "      <th>3</th>\n",
       "      <td>Tenure</td>\n",
       "      <td>0</td>\n",
       "    </tr>\n",
       "    <tr>\n",
       "      <th>4</th>\n",
       "      <td>Balance</td>\n",
       "      <td>0</td>\n",
       "    </tr>\n",
       "    <tr>\n",
       "      <th>5</th>\n",
       "      <td>EstimatedSalary</td>\n",
       "      <td>0</td>\n",
       "    </tr>\n",
       "    <tr>\n",
       "      <th>6</th>\n",
       "      <td>Exited</td>\n",
       "      <td>2037</td>\n",
       "    </tr>\n",
       "  </tbody>\n",
       "</table>\n",
       "</div>"
      ],
      "text/plain": [
       "     Data Features  Jumlah Outliers\n",
       "0       CustomerId                0\n",
       "1      CreditScore               15\n",
       "2              Age              359\n",
       "3           Tenure                0\n",
       "4          Balance                0\n",
       "5  EstimatedSalary                0\n",
       "6           Exited             2037"
      ]
     },
     "execution_count": 17,
     "metadata": {},
     "output_type": "execute_result"
    }
   ],
   "source": [
    "# Outliers by Tabular\n",
    "Desc_outliers = []\n",
    "\n",
    "for i in df.drop(columns = ['RowNumber','Surname', 'Geography', 'Gender', 'NumOfProducts', 'HasCrCard', 'IsActiveMember']):\n",
    "    Q1 = df.describe()[i]['25%']\n",
    "    Q3 = df.describe()[i]['75%']\n",
    "    IQR = Q3 - Q1\n",
    "    upper_fence = Q3 + (1.5*IQR)\n",
    "    lower_fence = Q1 - (1.5*IQR)\n",
    "    hitung = 0\n",
    "    \n",
    "    for j in df[i]:\n",
    "        if (j < lower_fence) | (j > upper_fence) :\n",
    "            hitung+=1\n",
    "    Desc_outliers.append([\n",
    "        i,\n",
    "        hitung\n",
    "    ])\n",
    "            \n",
    "# upper_fence, lower_fence\n",
    "pd.DataFrame(Desc_outliers, columns=[\n",
    "    \"Data Features\",\n",
    "    \"Jumlah Outliers\"\n",
    "])\n"
   ]
  },
  {
   "cell_type": "markdown",
   "id": "b1af1191-4e9b-4cc0-af3c-82a67e2c4f62",
   "metadata": {},
   "source": [
    "# Pembahasan Outliers\n",
    "Outliers adalah nilai di luar Q1 , Q3, dan mean\n",
    "- Bisa di lihat di tabel atas, bahwa yang memiliki outliers adalah: \n",
    "    - Age\n",
    "    - CreditScore\n",
    "    - Exited\n",
    "        - Untuk Exited bisa di bilang data yg di dapat bukanlah outliers di karenakan data di exited adalah menggunakan 0 = tidak pindah, 1 = pindah.\n",
    "        - Hanya terdapat 2 data di dalam variable Exited. Jadi Outliers di Exited tidak bisa di bilang sebagai Outliers.\n",
    "        "
   ]
  },
  {
   "cell_type": "markdown",
   "id": "ebe79583-d4de-499a-acf1-c1c03576a69e",
   "metadata": {},
   "source": [
    "### Data Analisis\n",
    "- CustomerID = ID Customer\n",
    "- Surname = Nama Keluarga / Family Name\n",
    "- Credit Score = Kredit Score\n",
    "- Geography = Negara\n",
    "- Gender = Male / Female\n",
    "- Age = Umur\n",
    "- Tenure = Durasi Pinjaman (Bulan)\n",
    "- Balance = Jumlah Uang yang tersimpan di bank\n",
    "- NumOfProducts = Jumlah Produk\n",
    "- HasCrCard = Sudah Mempunyai Credit Card (0 = tidak punya, 1 = punya)\n",
    "- IsActiveMember = Member yang Aktif\n",
    "- Estimated Salary = Perkiraan Gaji (Per tahun)\n",
    "- Exited = Yang keluar / Pindah Bank"
   ]
  },
  {
   "cell_type": "markdown",
   "id": "be013b15-e383-42b6-93ba-17ea322b0cdc",
   "metadata": {},
   "source": [
    "# Pembahasan Credit Score\n",
    "\n",
    "- Credit Score adalah angka antara 300–850 yang menggambarkan kelayakan kredit konsumen. \n",
    "- Semakin tinggi skornya, semakin baik peminjam memandang calon pemberi pinjaman.\n",
    "- Model Credit Score dibuat oleh Fair Isaac Corporation, juga dikenal sebagai FICO, dan digunakan oleh lembaga keuangan.  \n",
    "- Juga ada model Credit Score lainnya, tetapi FICO adalah yang paling sering di gunakan.\n",
    "\n",
    "# Tabel Credit Score\n",
    "\n",
    "- Excellent: 800 to 850\n",
    "- Very Good: 740 to 799\n",
    "- Good: 670 to 739\n",
    "- Fair: 580 to 669\n",
    "- Poor: 300 to 579\n"
   ]
  },
  {
   "cell_type": "code",
   "execution_count": 19,
   "id": "587cc88c-de57-479c-8550-029f0c2fe725",
   "metadata": {},
   "outputs": [
    {
     "data": {
      "text/html": [
       "<div>\n",
       "<style scoped>\n",
       "    .dataframe tbody tr th:only-of-type {\n",
       "        vertical-align: middle;\n",
       "    }\n",
       "\n",
       "    .dataframe tbody tr th {\n",
       "        vertical-align: top;\n",
       "    }\n",
       "\n",
       "    .dataframe thead th {\n",
       "        text-align: right;\n",
       "    }\n",
       "</style>\n",
       "<table border=\"1\" class=\"dataframe\">\n",
       "  <thead>\n",
       "    <tr style=\"text-align: right;\">\n",
       "      <th></th>\n",
       "      <th>RowNumber</th>\n",
       "      <th>CustomerId</th>\n",
       "      <th>Surname</th>\n",
       "      <th>CreditScore</th>\n",
       "      <th>Geography</th>\n",
       "      <th>Gender</th>\n",
       "      <th>Age</th>\n",
       "      <th>Tenure</th>\n",
       "      <th>Balance</th>\n",
       "      <th>NumOfProducts</th>\n",
       "      <th>HasCrCard</th>\n",
       "      <th>IsActiveMember</th>\n",
       "      <th>EstimatedSalary</th>\n",
       "      <th>Exited</th>\n",
       "      <th>Rating_Credit_Score</th>\n",
       "    </tr>\n",
       "  </thead>\n",
       "  <tbody>\n",
       "    <tr>\n",
       "      <th>0</th>\n",
       "      <td>1</td>\n",
       "      <td>15634602</td>\n",
       "      <td>Hargrave</td>\n",
       "      <td>619</td>\n",
       "      <td>France</td>\n",
       "      <td>Female</td>\n",
       "      <td>42</td>\n",
       "      <td>2</td>\n",
       "      <td>0.00</td>\n",
       "      <td>1</td>\n",
       "      <td>1</td>\n",
       "      <td>1</td>\n",
       "      <td>101348.88</td>\n",
       "      <td>1</td>\n",
       "      <td>Fair</td>\n",
       "    </tr>\n",
       "    <tr>\n",
       "      <th>1</th>\n",
       "      <td>2</td>\n",
       "      <td>15647311</td>\n",
       "      <td>Hill</td>\n",
       "      <td>608</td>\n",
       "      <td>Spain</td>\n",
       "      <td>Female</td>\n",
       "      <td>41</td>\n",
       "      <td>1</td>\n",
       "      <td>83807.86</td>\n",
       "      <td>1</td>\n",
       "      <td>0</td>\n",
       "      <td>1</td>\n",
       "      <td>112542.58</td>\n",
       "      <td>0</td>\n",
       "      <td>Fair</td>\n",
       "    </tr>\n",
       "    <tr>\n",
       "      <th>2</th>\n",
       "      <td>3</td>\n",
       "      <td>15619304</td>\n",
       "      <td>Onio</td>\n",
       "      <td>502</td>\n",
       "      <td>France</td>\n",
       "      <td>Female</td>\n",
       "      <td>42</td>\n",
       "      <td>8</td>\n",
       "      <td>159660.80</td>\n",
       "      <td>3</td>\n",
       "      <td>1</td>\n",
       "      <td>0</td>\n",
       "      <td>113931.57</td>\n",
       "      <td>1</td>\n",
       "      <td>Poor</td>\n",
       "    </tr>\n",
       "    <tr>\n",
       "      <th>3</th>\n",
       "      <td>4</td>\n",
       "      <td>15701354</td>\n",
       "      <td>Boni</td>\n",
       "      <td>699</td>\n",
       "      <td>France</td>\n",
       "      <td>Female</td>\n",
       "      <td>39</td>\n",
       "      <td>1</td>\n",
       "      <td>0.00</td>\n",
       "      <td>2</td>\n",
       "      <td>0</td>\n",
       "      <td>0</td>\n",
       "      <td>93826.63</td>\n",
       "      <td>0</td>\n",
       "      <td>Good</td>\n",
       "    </tr>\n",
       "    <tr>\n",
       "      <th>4</th>\n",
       "      <td>5</td>\n",
       "      <td>15737888</td>\n",
       "      <td>Mitchell</td>\n",
       "      <td>850</td>\n",
       "      <td>Spain</td>\n",
       "      <td>Female</td>\n",
       "      <td>43</td>\n",
       "      <td>2</td>\n",
       "      <td>125510.82</td>\n",
       "      <td>1</td>\n",
       "      <td>1</td>\n",
       "      <td>1</td>\n",
       "      <td>79084.10</td>\n",
       "      <td>0</td>\n",
       "      <td>Excellent</td>\n",
       "    </tr>\n",
       "  </tbody>\n",
       "</table>\n",
       "</div>"
      ],
      "text/plain": [
       "   RowNumber  CustomerId   Surname  CreditScore Geography  Gender  Age  \\\n",
       "0          1    15634602  Hargrave          619    France  Female   42   \n",
       "1          2    15647311      Hill          608     Spain  Female   41   \n",
       "2          3    15619304      Onio          502    France  Female   42   \n",
       "3          4    15701354      Boni          699    France  Female   39   \n",
       "4          5    15737888  Mitchell          850     Spain  Female   43   \n",
       "\n",
       "   Tenure   Balance  NumOfProducts  HasCrCard  IsActiveMember  \\\n",
       "0       2      0.00              1          1               1   \n",
       "1       1  83807.86              1          0               1   \n",
       "2       8 159660.80              3          1               0   \n",
       "3       1      0.00              2          0               0   \n",
       "4       2 125510.82              1          1               1   \n",
       "\n",
       "   EstimatedSalary  Exited Rating_Credit_Score  \n",
       "0        101348.88       1                Fair  \n",
       "1        112542.58       0                Fair  \n",
       "2        113931.57       1                Poor  \n",
       "3         93826.63       0                Good  \n",
       "4         79084.10       0           Excellent  "
      ]
     },
     "execution_count": 19,
     "metadata": {},
     "output_type": "execute_result"
    }
   ],
   "source": [
    "# Membikin Pemisah Untuk Melihat Credit Score customer, Termasuk Customer ber Credit Score Apa?\n",
    "listkosong = []\n",
    "for i in df['CreditScore']:\n",
    "    if i >= 800 and i <= 850:\n",
    "        listkosong.append(\"Excellent\")\n",
    "    elif i >= 740 and i <= 799:\n",
    "        listkosong.append(\"Very Good\")\n",
    "    elif i >= 670 and i <= 739:\n",
    "        listkosong.append('Good')\n",
    "    elif i >= 580 and i <= 669:\n",
    "        listkosong.append('Fair')\n",
    "    elif i >= 300 and i <= 579:\n",
    "        listkosong.append(\"Poor\")\n",
    "    else:\n",
    "        listkosong.append(\"Tidak Ada\")\n",
    "df['Rating_Credit_Score'] = listkosong\n",
    "df.head()"
   ]
  },
  {
   "cell_type": "code",
   "execution_count": 21,
   "id": "69c474a6-9455-4f69-bf99-40342324cfe5",
   "metadata": {},
   "outputs": [
    {
     "data": {
      "text/html": [
       "<div>\n",
       "<style scoped>\n",
       "    .dataframe tbody tr th:only-of-type {\n",
       "        vertical-align: middle;\n",
       "    }\n",
       "\n",
       "    .dataframe tbody tr th {\n",
       "        vertical-align: top;\n",
       "    }\n",
       "\n",
       "    .dataframe thead th {\n",
       "        text-align: right;\n",
       "    }\n",
       "</style>\n",
       "<table border=\"1\" class=\"dataframe\">\n",
       "  <thead>\n",
       "    <tr style=\"text-align: right;\">\n",
       "      <th></th>\n",
       "      <th>CreditScore</th>\n",
       "      <th>Geography</th>\n",
       "      <th>Gender</th>\n",
       "      <th>Age</th>\n",
       "      <th>Tenure</th>\n",
       "      <th>Balance</th>\n",
       "      <th>NumOfProducts</th>\n",
       "      <th>HasCrCard</th>\n",
       "      <th>IsActiveMember</th>\n",
       "      <th>EstimatedSalary</th>\n",
       "      <th>Exited</th>\n",
       "      <th>Rating_Credit_Score</th>\n",
       "    </tr>\n",
       "  </thead>\n",
       "  <tbody>\n",
       "    <tr>\n",
       "      <th>0</th>\n",
       "      <td>619</td>\n",
       "      <td>France</td>\n",
       "      <td>Female</td>\n",
       "      <td>42</td>\n",
       "      <td>2</td>\n",
       "      <td>0.00</td>\n",
       "      <td>1</td>\n",
       "      <td>1</td>\n",
       "      <td>1</td>\n",
       "      <td>101348.88</td>\n",
       "      <td>1</td>\n",
       "      <td>Fair</td>\n",
       "    </tr>\n",
       "    <tr>\n",
       "      <th>1</th>\n",
       "      <td>608</td>\n",
       "      <td>Spain</td>\n",
       "      <td>Female</td>\n",
       "      <td>41</td>\n",
       "      <td>1</td>\n",
       "      <td>83807.86</td>\n",
       "      <td>1</td>\n",
       "      <td>0</td>\n",
       "      <td>1</td>\n",
       "      <td>112542.58</td>\n",
       "      <td>0</td>\n",
       "      <td>Fair</td>\n",
       "    </tr>\n",
       "    <tr>\n",
       "      <th>2</th>\n",
       "      <td>502</td>\n",
       "      <td>France</td>\n",
       "      <td>Female</td>\n",
       "      <td>42</td>\n",
       "      <td>8</td>\n",
       "      <td>159660.80</td>\n",
       "      <td>3</td>\n",
       "      <td>1</td>\n",
       "      <td>0</td>\n",
       "      <td>113931.57</td>\n",
       "      <td>1</td>\n",
       "      <td>Poor</td>\n",
       "    </tr>\n",
       "    <tr>\n",
       "      <th>3</th>\n",
       "      <td>699</td>\n",
       "      <td>France</td>\n",
       "      <td>Female</td>\n",
       "      <td>39</td>\n",
       "      <td>1</td>\n",
       "      <td>0.00</td>\n",
       "      <td>2</td>\n",
       "      <td>0</td>\n",
       "      <td>0</td>\n",
       "      <td>93826.63</td>\n",
       "      <td>0</td>\n",
       "      <td>Good</td>\n",
       "    </tr>\n",
       "    <tr>\n",
       "      <th>4</th>\n",
       "      <td>850</td>\n",
       "      <td>Spain</td>\n",
       "      <td>Female</td>\n",
       "      <td>43</td>\n",
       "      <td>2</td>\n",
       "      <td>125510.82</td>\n",
       "      <td>1</td>\n",
       "      <td>1</td>\n",
       "      <td>1</td>\n",
       "      <td>79084.10</td>\n",
       "      <td>0</td>\n",
       "      <td>Excellent</td>\n",
       "    </tr>\n",
       "  </tbody>\n",
       "</table>\n",
       "</div>"
      ],
      "text/plain": [
       "   CreditScore Geography  Gender  Age  Tenure   Balance  NumOfProducts  \\\n",
       "0          619    France  Female   42       2      0.00              1   \n",
       "1          608     Spain  Female   41       1  83807.86              1   \n",
       "2          502    France  Female   42       8 159660.80              3   \n",
       "3          699    France  Female   39       1      0.00              2   \n",
       "4          850     Spain  Female   43       2 125510.82              1   \n",
       "\n",
       "   HasCrCard  IsActiveMember  EstimatedSalary  Exited Rating_Credit_Score  \n",
       "0          1               1        101348.88       1                Fair  \n",
       "1          0               1        112542.58       0                Fair  \n",
       "2          1               0        113931.57       1                Poor  \n",
       "3          0               0         93826.63       0                Good  \n",
       "4          1               1         79084.10       0           Excellent  "
      ]
     },
     "execution_count": 21,
     "metadata": {},
     "output_type": "execute_result"
    }
   ],
   "source": [
    "# Drop Variables yang tidak di pakai\n",
    "df.drop(columns = ['RowNumber','Surname', 'CustomerId'], inplace = True)\n",
    "df.head()"
   ]
  },
  {
   "cell_type": "markdown",
   "id": "71cebc2c-816a-49f3-a355-15fa499f4efa",
   "metadata": {},
   "source": [
    "## Binning"
   ]
  },
  {
   "cell_type": "code",
   "execution_count": 28,
   "id": "75de8db1-1986-4b53-b801-e70151f2e755",
   "metadata": {},
   "outputs": [
    {
     "data": {
      "text/html": [
       "<div>\n",
       "<style scoped>\n",
       "    .dataframe tbody tr th:only-of-type {\n",
       "        vertical-align: middle;\n",
       "    }\n",
       "\n",
       "    .dataframe tbody tr th {\n",
       "        vertical-align: top;\n",
       "    }\n",
       "\n",
       "    .dataframe thead th {\n",
       "        text-align: right;\n",
       "    }\n",
       "</style>\n",
       "<table border=\"1\" class=\"dataframe\">\n",
       "  <thead>\n",
       "    <tr style=\"text-align: right;\">\n",
       "      <th></th>\n",
       "      <th>CreditScore</th>\n",
       "      <th>Geography</th>\n",
       "      <th>Gender</th>\n",
       "      <th>Age</th>\n",
       "      <th>Tenure</th>\n",
       "      <th>Balance</th>\n",
       "      <th>NumOfProducts</th>\n",
       "      <th>HasCrCard</th>\n",
       "      <th>IsActiveMember</th>\n",
       "      <th>EstimatedSalary</th>\n",
       "      <th>Exited</th>\n",
       "      <th>Rating_Credit_Score</th>\n",
       "      <th>Age_group</th>\n",
       "    </tr>\n",
       "  </thead>\n",
       "  <tbody>\n",
       "    <tr>\n",
       "      <th>0</th>\n",
       "      <td>619</td>\n",
       "      <td>France</td>\n",
       "      <td>Female</td>\n",
       "      <td>42</td>\n",
       "      <td>2</td>\n",
       "      <td>0.00</td>\n",
       "      <td>1</td>\n",
       "      <td>1</td>\n",
       "      <td>1</td>\n",
       "      <td>101348.88</td>\n",
       "      <td>1</td>\n",
       "      <td>Fair</td>\n",
       "      <td>prime</td>\n",
       "    </tr>\n",
       "    <tr>\n",
       "      <th>1</th>\n",
       "      <td>608</td>\n",
       "      <td>Spain</td>\n",
       "      <td>Female</td>\n",
       "      <td>41</td>\n",
       "      <td>1</td>\n",
       "      <td>83807.86</td>\n",
       "      <td>1</td>\n",
       "      <td>0</td>\n",
       "      <td>1</td>\n",
       "      <td>112542.58</td>\n",
       "      <td>0</td>\n",
       "      <td>Fair</td>\n",
       "      <td>prime</td>\n",
       "    </tr>\n",
       "    <tr>\n",
       "      <th>2</th>\n",
       "      <td>502</td>\n",
       "      <td>France</td>\n",
       "      <td>Female</td>\n",
       "      <td>42</td>\n",
       "      <td>8</td>\n",
       "      <td>159660.80</td>\n",
       "      <td>3</td>\n",
       "      <td>1</td>\n",
       "      <td>0</td>\n",
       "      <td>113931.57</td>\n",
       "      <td>1</td>\n",
       "      <td>Poor</td>\n",
       "      <td>prime</td>\n",
       "    </tr>\n",
       "    <tr>\n",
       "      <th>3</th>\n",
       "      <td>699</td>\n",
       "      <td>France</td>\n",
       "      <td>Female</td>\n",
       "      <td>39</td>\n",
       "      <td>1</td>\n",
       "      <td>0.00</td>\n",
       "      <td>2</td>\n",
       "      <td>0</td>\n",
       "      <td>0</td>\n",
       "      <td>93826.63</td>\n",
       "      <td>0</td>\n",
       "      <td>Good</td>\n",
       "      <td>prime</td>\n",
       "    </tr>\n",
       "    <tr>\n",
       "      <th>4</th>\n",
       "      <td>850</td>\n",
       "      <td>Spain</td>\n",
       "      <td>Female</td>\n",
       "      <td>43</td>\n",
       "      <td>2</td>\n",
       "      <td>125510.82</td>\n",
       "      <td>1</td>\n",
       "      <td>1</td>\n",
       "      <td>1</td>\n",
       "      <td>79084.10</td>\n",
       "      <td>0</td>\n",
       "      <td>Excellent</td>\n",
       "      <td>prime</td>\n",
       "    </tr>\n",
       "  </tbody>\n",
       "</table>\n",
       "</div>"
      ],
      "text/plain": [
       "   CreditScore Geography  Gender  Age  Tenure   Balance  NumOfProducts  \\\n",
       "0          619    France  Female   42       2      0.00              1   \n",
       "1          608     Spain  Female   41       1  83807.86              1   \n",
       "2          502    France  Female   42       8 159660.80              3   \n",
       "3          699    France  Female   39       1      0.00              2   \n",
       "4          850     Spain  Female   43       2 125510.82              1   \n",
       "\n",
       "   HasCrCard  IsActiveMember  EstimatedSalary  Exited Rating_Credit_Score  \\\n",
       "0          1               1        101348.88       1                Fair   \n",
       "1          0               1        112542.58       0                Fair   \n",
       "2          1               0        113931.57       1                Poor   \n",
       "3          0               0         93826.63       0                Good   \n",
       "4          1               1         79084.10       0           Excellent   \n",
       "\n",
       "  Age_group  \n",
       "0     prime  \n",
       "1     prime  \n",
       "2     prime  \n",
       "3     prime  \n",
       "4     prime  "
      ]
     },
     "execution_count": 28,
     "metadata": {},
     "output_type": "execute_result"
    }
   ],
   "source": [
    "age_binning = [15, 25, 55, 65, df['Age'].max()]\n",
    "label = ['early', 'prime', 'mature', 'elderly']\n",
    "\n",
    "df['Age_group'] = pd.cut(df['Age'], bins = age_binning, labels = label)\n",
    "df.head()"
   ]
  },
  {
   "cell_type": "markdown",
   "id": "b6f7a061-99ba-4726-b0a4-608fd450ad23",
   "metadata": {},
   "source": [
    "## Exploratory Data Analysis"
   ]
  },
  {
   "cell_type": "code",
   "execution_count": 25,
   "id": "d4a5d75f-c15a-48ab-b1ff-27db265a1c28",
   "metadata": {},
   "outputs": [
    {
     "data": {
      "image/png": "[encoded data removed]",
      "text/plain": [
       "<Figure size 936x360 with 1 Axes>"
      ]
     },
     "metadata": {
      "needs_background": "light"
     },
     "output_type": "display_data"
    },
    {
     "data": {
      "image/png": "[encoded data removed]",
      "text/plain": [
       "<Figure size 936x360 with 1 Axes>"
      ]
     },
     "metadata": {
      "needs_background": "light"
     },
     "output_type": "display_data"
    },
    {
     "name": "stdout",
     "output_type": "stream",
     "text": [
      "   Exited  count  percent\n",
      "0       0   7963    79.63\n",
      "1       1   2037    20.37\n",
      "\n",
      " Only 20.37% of our customers who got tendency to quit\n"
     ]
    }
   ],
   "source": [
    "plt.figure(figsize = (13, 5))\n",
    "sns.countplot(df['Exited'], palette = 'Pastel1')\n",
    "plt.show()\n",
    "plt.figure(figsize = (13, 5))\n",
    "sns.distplot(df['Exited'], color='gold')\n",
    "plt.show()\n",
    "\n",
    "print(df.stb.freq(['Exited'], cum_cols = False))\n",
    "print('\\n Only 20.37% of our customers who got tendency to quit')"
   ]
  },
  {
   "cell_type": "code",
   "execution_count": 26,
   "id": "cdedeffe-405e-4785-bfa3-105fca4ea0ca",
   "metadata": {},
   "outputs": [
    {
     "data": {
      "image/png": "[encoded data removed]",
      "text/plain": [
       "<Figure size 1440x1296 with 5 Axes>"
      ]
     },
     "metadata": {
      "needs_background": "light"
     },
     "output_type": "display_data"
    },
    {
     "name": "stdout",
     "output_type": "stream",
     "text": [
      "   Gender  count  percent\n",
      "0    Male   5457    54.57\n",
      "1  Female   4543    45.43\n",
      "\n",
      " Our male customers are slightly higher than our female customers with about 55%\n",
      "\n",
      "\n",
      "  Geography  count  percent\n",
      "0    France   5014    50.14\n",
      "1   Germany   2509    25.09\n",
      "2     Spain   2477    24.77\n",
      "\n",
      " Most of our customers are French.\n",
      "\n",
      "\n",
      "   NumOfProducts  count  percent\n",
      "0              1   5084    50.84\n",
      "1              2   4590    45.90\n",
      "2              3    266     2.66\n",
      "3              4     60     0.60\n",
      "\n",
      " Most of our customers are having 1-2 product(s)\n",
      "\n",
      "\n",
      "   HasCrCard  count  percent\n",
      "0          1   7055    70.55\n",
      "1          0   2945    29.45\n",
      "\n",
      " About 70% of our customers are having credit card.\n",
      "\n",
      "\n",
      "   IsActiveMember  count  percent\n",
      "0               1   5151    51.51\n",
      "1               0   4849    48.49\n",
      "\n",
      " Half of our customers are note acive member.\n"
     ]
    }
   ],
   "source": [
    "plt.figure(figsize = (20, 18))\n",
    "\n",
    "plt.subplot(3,2,1)\n",
    "sns.countplot(df['Gender'])\n",
    "\n",
    "plt.subplot(3,2,2)\n",
    "sns.countplot(df['Geography'])\n",
    "\n",
    "plt.subplot(3,2,3)\n",
    "sns.countplot(df['NumOfProducts'])\n",
    "\n",
    "plt.subplot(3,2,4)\n",
    "sns.countplot(df['HasCrCard'])\n",
    "\n",
    "plt.subplot(3,2,5)\n",
    "sns.countplot(df['IsActiveMember'])\n",
    "\n",
    "plt.show()\n",
    "\n",
    "print(df.stb.freq(['Gender'], cum_cols = False))\n",
    "print('\\n Our male customers are slightly higher than our female customers with about 55%\\n\\n')\n",
    "\n",
    "print(df.stb.freq(['Geography'], cum_cols = False))\n",
    "print('\\n Most of our customers are French.\\n\\n')\n",
    "\n",
    "print(df.stb.freq(['NumOfProducts'], cum_cols = False))\n",
    "print('\\n Most of our customers are having 1-2 product(s)\\n\\n')\n",
    "\n",
    "print(df.stb.freq(['HasCrCard'], cum_cols = False))\n",
    "print('\\n About 70% of our customers are having credit card.\\n\\n')\n",
    "\n",
    "print(df.stb.freq(['IsActiveMember'], cum_cols = False))\n",
    "print('\\n Half of our customers are note acive member.')"
   ]
  },
  {
   "cell_type": "code",
   "execution_count": 31,
   "id": "c90d8840-580d-4afb-a43a-ecfbba5cdf7b",
   "metadata": {},
   "outputs": [
    {
     "data": {
      "image/png": "[encoded data removed]",
      "text/plain": [
       "<Figure size 936x360 with 1 Axes>"
      ]
     },
     "metadata": {
      "needs_background": "light"
     },
     "output_type": "display_data"
    },
    {
     "name": "stdout",
     "output_type": "stream",
     "text": [
      "  Age_group  count  percent\n",
      "0     prime   8589    85.89\n",
      "1     early    611     6.11\n",
      "2    mature    536     5.36\n",
      "3   elderly    264     2.64\n",
      "\n",
      " Most of our customers are in Prime Working age\n"
     ]
    }
   ],
   "source": [
    "plt.figure(figsize = (13, 5))\n",
    "sns.countplot(df['Age_group'], palette = 'Pastel1')\n",
    "plt.show()\n",
    "\n",
    "print(df.stb.freq(['Age_group'], cum_cols = False))\n",
    "print('\\n Most of our customers are in Prime Working age')"
   ]
  },
  {
   "cell_type": "code",
   "execution_count": 38,
   "id": "fa151706-96eb-40b4-92ab-2ea53abe263c",
   "metadata": {},
   "outputs": [
    {
     "data": {
      "image/png": "[encoded data removed]",
      "text/plain": [
       "<Figure size 936x360 with 1 Axes>"
      ]
     },
     "metadata": {
      "needs_background": "light"
     },
     "output_type": "display_data"
    },
    {
     "name": "stdout",
     "output_type": "stream",
     "text": [
      "  Rating_Credit_Score  count  percent\n",
      "0                Fair   3331    33.31\n",
      "1                Good   2428    24.28\n",
      "2                Poor   2362    23.62\n",
      "3           Very Good   1224    12.24\n",
      "4           Excellent    655     6.55\n",
      "\n",
      " Most of the customer are with Fair Ratings\n"
     ]
    }
   ],
   "source": [
    "plt.figure(figsize = (13, 5))\n",
    "sns.countplot(df['Rating_Credit_Score'], palette = 'Pastel1')\n",
    "plt.show()\n",
    "\n",
    "print(df.stb.freq(['Rating_Credit_Score'], cum_cols = False))\n",
    "print('\\n Most of the customer are with Fair Ratings')"
   ]
  },
  {
   "cell_type": "code",
   "execution_count": 43,
   "id": "e348b83b-d83d-480b-91cd-b900a71fc7b2",
   "metadata": {},
   "outputs": [
    {
     "data": {
      "image/png": "[encoded data removed]",
      "text/plain": [
       "<Figure size 936x360 with 1 Axes>"
      ]
     },
     "metadata": {
      "needs_background": "light"
     },
     "output_type": "display_data"
    },
    {
     "name": "stdout",
     "output_type": "stream",
     "text": [
      "    Tenure  count  percent\n",
      "0        2   1048    10.48\n",
      "1        1   1035    10.35\n",
      "2        7   1028    10.28\n",
      "3        8   1025    10.25\n",
      "4        5   1012    10.12\n",
      "5        3   1009    10.09\n",
      "6        4    989     9.89\n",
      "7        9    984     9.84\n",
      "8        6    967     9.67\n",
      "9       10    490     4.90\n",
      "10       0    413     4.13\n",
      "\n",
      " Most of our customers are having tenure between 1-9 years\n"
     ]
    }
   ],
   "source": [
    "plt.figure(figsize = (13, 5))\n",
    "sns.countplot(df['Tenure'], palette = 'summer')\n",
    "plt.show()\n",
    "\n",
    "print(df.stb.freq(['Tenure'], cum_cols = False))\n",
    "print('\\n Most of our customers are having tenure between 1-9 years')"
   ]
  },
  {
   "cell_type": "code",
   "execution_count": 45,
   "id": "91e21948-aecb-461c-b219-6d2d2b9017d1",
   "metadata": {},
   "outputs": [
    {
     "data": {
      "image/png": "[encoded data removed]",
      "text/plain": [
       "<Figure size 1296x576 with 1 Axes>"
      ]
     },
     "metadata": {
      "needs_background": "light"
     },
     "output_type": "display_data"
    }
   ],
   "source": [
    "plt.figure(figsize = (18, 8))\n",
    "sns.distplot(df['Balance'], color='red')\n",
    "plt.show()"
   ]
  },
  {
   "cell_type": "markdown",
   "id": "1694c766-ee06-498a-acb6-d2c2fa66434a",
   "metadata": {},
   "source": [
    "### Multivariate Analysis"
   ]
  },
  {
   "cell_type": "markdown",
   "id": "625527de-cb6d-4fa2-996a-a00bbae4c309",
   "metadata": {},
   "source": [
    "### Gender and Exited"
   ]
  },
  {
   "cell_type": "code",
   "execution_count": 47,
   "id": "af5c6b31-4cf9-4efd-91b0-7d15463badc6",
   "metadata": {},
   "outputs": [
    {
     "name": "stdout",
     "output_type": "stream",
     "text": [
      "Exited    0    1\n",
      "Gender          \n",
      "Female 0.75 0.25\n",
      "Male   0.84 0.16\n"
     ]
    },
    {
     "data": {
      "image/png": "[encoded data removed]",
      "text/plain": [
       "<Figure size 1296x360 with 1 Axes>"
      ]
     },
     "metadata": {
      "needs_background": "light"
     },
     "output_type": "display_data"
    }
   ],
   "source": [
    "print(pd.crosstab(index = df['Gender'], columns = df['Exited'], normalize = 'index'))\n",
    "plt.figure(figsize = (18, 5))\n",
    "sns.countplot(df['Gender'], hue = df['Exited'])\n",
    "plt.show()"
   ]
  },
  {
   "cell_type": "markdown",
   "id": "5de59728-75ee-4d0f-adda-061c2747d2de",
   "metadata": {},
   "source": [
    "#### Both female or male are mostly like to continue with our services."
   ]
  },
  {
   "cell_type": "markdown",
   "id": "01427aa8-e66f-453b-89cc-77911627e10a",
   "metadata": {},
   "source": [
    "### Average age and Exited"
   ]
  },
  {
   "cell_type": "code",
   "execution_count": 48,
   "id": "1c757aaa-86ed-498d-b0ba-ffc394c2f9bd",
   "metadata": {},
   "outputs": [
    {
     "name": "stdout",
     "output_type": "stream",
     "text": [
      "col_0   Age Mean\n",
      "Exited          \n",
      "0          37.41\n",
      "1          44.84\n"
     ]
    },
    {
     "data": {
      "image/png": "[encoded data removed]",
      "text/plain": [
       "<Figure size 1296x360 with 1 Axes>"
      ]
     },
     "metadata": {
      "needs_background": "light"
     },
     "output_type": "display_data"
    }
   ],
   "source": [
    "print(pd.crosstab(index = df['Exited'], columns = 'Age Mean', values = df['Age'], aggfunc='mean'))\n",
    "\n",
    "plt.figure(figsize = (18, 5))\n",
    "sns.barplot(x = df['Exited'], y = df['Age'], palette = 'magma', ci = False)\n",
    "plt.show()"
   ]
  },
  {
   "cell_type": "markdown",
   "id": "bd56e33e-f11d-4ebe-ac5e-5faf30049e4f",
   "metadata": {},
   "source": [
    "#### The average age of customer who is likely to churn is 45 years old, while for customers who is willing to stay is 37 years old. This shows that age doesn'r really have impacts on customer's decission to churn."
   ]
  },
  {
   "cell_type": "markdown",
   "id": "8b013a69-fa9d-49b2-bda7-097895eee53c",
   "metadata": {},
   "source": [
    "### Geography and Exited"
   ]
  },
  {
   "cell_type": "code",
   "execution_count": 49,
   "id": "d3d11cbd-f99c-4a21-825a-4a5a1d79297f",
   "metadata": {},
   "outputs": [
    {
     "name": "stdout",
     "output_type": "stream",
     "text": [
      "Exited       0    1\n",
      "Geography          \n",
      "France    0.84 0.16\n",
      "Germany   0.68 0.32\n",
      "Spain     0.83 0.17\n"
     ]
    },
    {
     "data": {
      "image/png": "[encoded data removed]",
      "text/plain": [
       "<Figure size 1296x360 with 1 Axes>"
      ]
     },
     "metadata": {
      "needs_background": "light"
     },
     "output_type": "display_data"
    }
   ],
   "source": [
    "print(pd.crosstab(index = df['Geography'], columns = df['Exited'], normalize = 'index'))\n",
    "\n",
    "plt.figure(figsize = (18, 5))\n",
    "sns.barplot(x = df['Geography'], y = df['Exited'], palette = 'viridis', ci = False)\n",
    "plt.show()"
   ]
  },
  {
   "cell_type": "markdown",
   "id": "37cc9ecd-3c04-446c-b514-62d57fa17231",
   "metadata": {},
   "source": [
    "#### The tendency to churn is to see, that Germans are highest who probably churn with 32%."
   ]
  },
  {
   "cell_type": "markdown",
   "id": "0d548b0f-0b0d-4cee-9ce9-701d6c509ce4",
   "metadata": {},
   "source": [
    "### Age group and Exited"
   ]
  },
  {
   "cell_type": "code",
   "execution_count": 51,
   "id": "927d08cd-99df-4382-8019-14ec84f6c092",
   "metadata": {},
   "outputs": [
    {
     "name": "stdout",
     "output_type": "stream",
     "text": [
      "Exited       0    1\n",
      "Age_group          \n",
      "early     0.92 0.08\n",
      "prime     0.80 0.20\n",
      "mature    0.52 0.48\n",
      "elderly   0.87 0.13\n"
     ]
    },
    {
     "data": {
      "image/png": "[encoded data removed]",
      "text/plain": [
       "<Figure size 1296x360 with 1 Axes>"
      ]
     },
     "metadata": {
      "needs_background": "light"
     },
     "output_type": "display_data"
    }
   ],
   "source": [
    "print(pd.crosstab(index = df['Age_group'], columns = df['Exited'], normalize = 'index'))\n",
    "\n",
    "plt.figure(figsize = (18, 5))\n",
    "sns.barplot(x = df['Exited'], y = df['Age_group'], palette = 'bone', ci = False)\n",
    "plt.show()"
   ]
  },
  {
   "cell_type": "markdown",
   "id": "bf972449-694f-49c6-a733-a78a02c1d1ca",
   "metadata": {},
   "source": [
    "#### The mature working age people are likely to churn with highest possibility (almost 50%), then come customers on prime working age."
   ]
  },
  {
   "cell_type": "markdown",
   "id": "29754e5c-47b1-4cf0-84e3-7e0677c25968",
   "metadata": {},
   "source": [
    "### Credit Score Class and Exited"
   ]
  },
  {
   "cell_type": "code",
   "execution_count": 55,
   "id": "67be23be-ff1c-4284-b84e-bbf73b883283",
   "metadata": {},
   "outputs": [
    {
     "name": "stdout",
     "output_type": "stream",
     "text": [
      "Rating_Credit_Score  Excellent  Fair  Good  Poor  Very Good\n",
      "Exited                                                     \n",
      "0                         0.80  0.79  0.81  0.78       0.79\n",
      "1                         0.20  0.21  0.19  0.22       0.21\n"
     ]
    },
    {
     "data": {
      "image/png": "[encoded data removed]",
      "text/plain": [
       "<Figure size 1080x432 with 1 Axes>"
      ]
     },
     "metadata": {
      "needs_background": "light"
     },
     "output_type": "display_data"
    }
   ],
   "source": [
    "print(pd.crosstab(index = df['Exited'], columns = df['Rating_Credit_Score'], normalize = 'columns'))\n",
    "\n",
    "plt.figure(figsize = (15, 6))\n",
    "sns.countplot(df['Rating_Credit_Score'], hue = df['Exited'], palette='magma')\n",
    "plt.show()"
   ]
  },
  {
   "cell_type": "markdown",
   "id": "555eda84-f2c9-47ea-a9b9-675b4358d317",
   "metadata": {},
   "source": [
    "#### According to our credit Score rating, it is to see that most of our customers don't really have tendency tom churn."
   ]
  },
  {
   "cell_type": "markdown",
   "id": "db7eb711-522e-46ef-9d7c-7901bea74109",
   "metadata": {},
   "source": [
    "### Customers with credit card and exited"
   ]
  },
  {
   "cell_type": "code",
   "execution_count": 56,
   "id": "ab3d6a46-6b7f-4567-92de-b0bd762f2193",
   "metadata": {},
   "outputs": [
    {
     "name": "stdout",
     "output_type": "stream",
     "text": [
      "HasCrCard    0    1\n",
      "Exited             \n",
      "0         0.29 0.71\n",
      "1         0.30 0.70\n"
     ]
    },
    {
     "data": {
      "image/png": "[encoded data removed]",
      "text/plain": [
       "<Figure size 1080x432 with 1 Axes>"
      ]
     },
     "metadata": {
      "needs_background": "light"
     },
     "output_type": "display_data"
    }
   ],
   "source": [
    "print(pd.crosstab(index = df['Exited'], columns = df['HasCrCard'], normalize = 'index'))\n",
    "\n",
    "plt.figure(figsize = (15, 6))\n",
    "sns.countplot(df['HasCrCard'], hue = df['Exited'])\n",
    "plt.show()"
   ]
  },
  {
   "cell_type": "markdown",
   "id": "e3b5ddbf-d32f-4c4f-957c-776853f1513d",
   "metadata": {},
   "source": [
    "#### It is to see, that most of our customers who have creditcards, have tendency to churn."
   ]
  },
  {
   "cell_type": "markdown",
   "id": "7d688d17-abfb-4392-9525-47850582758d",
   "metadata": {},
   "source": [
    "### Average Balance and exited"
   ]
  },
  {
   "cell_type": "code",
   "execution_count": 58,
   "id": "680e1db2-3bc2-4ff3-b8a3-30acc82cc43d",
   "metadata": {},
   "outputs": [
    {
     "name": "stdout",
     "output_type": "stream",
     "text": [
      "col_0   Average Balance\n",
      "Exited                 \n",
      "0              72745.30\n",
      "1              91108.54\n"
     ]
    },
    {
     "data": {
      "image/png": "[encoded data removed]",
      "text/plain": [
       "<Figure size 1296x360 with 1 Axes>"
      ]
     },
     "metadata": {
      "needs_background": "light"
     },
     "output_type": "display_data"
    }
   ],
   "source": [
    "print(pd.crosstab(index = df['Exited'], columns = 'Average Balance', values = df['Balance'], aggfunc='mean'))\n",
    "\n",
    "plt.figure(figsize = (18, 5))\n",
    "sns.barplot(x = df['Exited'], y = df['Balance'], palette = 'Pastel1', ci = False)\n",
    "plt.show()"
   ]
  },
  {
   "cell_type": "markdown",
   "id": "739d5d65-e36f-4919-acf6-6c3fcb4f6f04",
   "metadata": {},
   "source": [
    "#### The higher Average Balance ofour customers, that is more likely to churn."
   ]
  },
  {
   "cell_type": "code",
   "execution_count": 61,
   "id": "6d6fc991-71a2-4a9e-982e-f32e2cd8b8e3",
   "metadata": {},
   "outputs": [
    {
     "data": {
      "image/png": "[encoded data removed]",
      "text/plain": [
       "<Figure size 1296x576 with 1 Axes>"
      ]
     },
     "metadata": {
      "needs_background": "light"
     },
     "output_type": "display_data"
    }
   ],
   "source": [
    "plt.figure(figsize = (18, 8))\n",
    "sns.barplot(x = df['Tenure'], y = df['CreditScore'], hue = df['Rating_Credit_Score'], palette='Pastel1',ci = False)\n",
    "plt.title('Mean Price based on grade per group of price')\n",
    "plt.show()"
   ]
  },
  {
   "cell_type": "markdown",
   "id": "6a2801d0-89b3-480a-9024-3e2108594879",
   "metadata": {},
   "source": [
    "#### On each tenure , it is more likely to see that our customers are on Excellent Rating\n",
    "\n",
    "#### Higher Tenure = More Loyal"
   ]
  },
  {
   "cell_type": "markdown",
   "id": "63e8e4d1-629f-4565-81bc-990b699bf2cc",
   "metadata": {},
   "source": [
    "plt.figure(figsize = (13, 5))\n",
    "sns.countplot('NumOfProducts', hue = 'Exited', data = df)\n",
    "plt.show()\n",
    "# Customer yang memiliki 2 produk memiliki rate untuk tetap paling tinggi\n",
    "# Customer yang memiliki 4 produk memiliki rate untuk tetap paling rendah sebesar 0%"
   ]
  },
  {
   "cell_type": "code",
   "execution_count": 64,
   "id": "a8c3d68d-492c-432a-a0a5-0643a043dad8",
   "metadata": {},
   "outputs": [
    {
     "name": "stdout",
     "output_type": "stream",
     "text": [
      "Exited           0    1\n",
      "NumOfProducts          \n",
      "1             0.72 0.28\n",
      "2             0.92 0.08\n",
      "3             0.17 0.83\n",
      "4             0.00 1.00\n"
     ]
    },
    {
     "data": {
      "image/png": "[encoded data removed]",
      "text/plain": [
       "<Figure size 1296x576 with 1 Axes>"
      ]
     },
     "metadata": {
      "needs_background": "light"
     },
     "output_type": "display_data"
    }
   ],
   "source": [
    "print(pd.crosstab(index = df['NumOfProducts'], columns = df['Exited'], normalize = 'index'))\n",
    "\n",
    "plt.figure(figsize = (18, 8))\n",
    "sns.countplot(x = df['NumOfProducts'], hue = df['Exited'])\n",
    "plt.show()"
   ]
  },
  {
   "cell_type": "markdown",
   "id": "ed433fab-6d00-470d-a7d0-b06a5f431a96",
   "metadata": {},
   "source": [
    "#### Customer who have more than 2 products are morelikely to churn"
   ]
  },
  {
   "cell_type": "markdown",
   "id": "7f63e23b-65ea-477b-ba52-d2f0e788207e",
   "metadata": {},
   "source": [
    "## Summary\n",
    "\n",
    "- We are already on right with keeping our customers to be loyal. \n",
    "\n",
    "- Only 20.37% of our customers who got tendency to quit\n",
    "\n",
    "- Most of our customers are in prime Working age (25-54 years old)\n",
    "\n",
    "- Most of our customers are french\n",
    "\n",
    "- Our male customers are slightly higher than our female customers with about 55%\n",
    "    - Female have tedency of Churn than Male\n",
    "\n",
    "- Most of our customers are having 1-2 product(s)\n",
    "\n",
    "- About 70% of our customers are having credit card.\n",
    "\n",
    "- Half of our customers are not active member.\n",
    "\n",
    "\n",
    "\n",
    "## Recommendation\n",
    "\n",
    "- Before deciding Applications, there are several factors, we need to consider.\n",
    "\n",
    "- Customer who had more than 2 products are morelikely to Churn\n",
    "    - Do not offer Customer who have 2 products\n",
    "\n",
    "- Improve Customer Service\n",
    "\n",
    "- The Bank should give extra budget into marketing specifically for Female\n",
    "    - Example: Giving Ticket for Holiday, Give Discount on Fashion, etc\n",
    "\n",
    "- Do Customer Survey regarding the Bank\n",
    "\n",
    "- Improve the Digital Section from the Bank\n",
    "    - Such as: Online Banking, Mobile Banking, Internet Banking\n",
    "- Pay attention more at the German, because they tend mostly to leave.\n",
    "    - Perhaps we can do more special campaigns only for Germany.\n",
    "\n",
    "- We should make more interesting and beneficial products targeting our 'Mature working age' class.\n",
    "    - Programs made espescially for retirement\n",
    "\n",
    "- Opening new branches near customer who have the Age group of 'Mature working age'.\n",
    "\n",
    "- Having 24/7 Customer Service"
   ]
  },
  {
   "cell_type": "code",
   "execution_count": null,
   "id": "4a8e6360-335d-49ee-9d88-318389b02fde",
   "metadata": {},
   "outputs": [],
   "source": []
  }
 ],
 "metadata": {
  "kernelspec": {
   "display_name": "Python 3",
   "language": "python",
   "name": "python3"
  },
  "language_info": {
   "codemirror_mode": {
    "name": "ipython",
    "version": 3
   },
   "file_extension": ".py",
   "mimetype": "text/x-python",
   "name": "python",
   "nbconvert_exporter": "python",
   "pygments_lexer": "ipython3",
   "version": "3.8.5"
  }
 },
 "nbformat": 4,
 "nbformat_minor": 5
}
